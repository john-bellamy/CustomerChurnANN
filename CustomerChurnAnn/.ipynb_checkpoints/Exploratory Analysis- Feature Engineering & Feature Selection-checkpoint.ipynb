{
 "cells": [
  {
   "cell_type": "code",
   "execution_count": null,
   "metadata": {},
   "outputs": [],
   "source": [
    "#!/usr/bin/env/python -W ignore::DeprecationWarning\n",
    "import pandas as pd\n",
    "import numpy as np\n",
    "\n",
    "#Data Preprocessing\n",
    "from sklearn.preprocessing import LabelEncoder, OneHotEncoder\n",
    "from sklearn.compose import ColumnTransformer\n",
    "\n",
    "from sklearn.ensemble import AdaBoostClassifier, RandomForestClassifier\n",
    "\n",
    "from sklearn.model_selection import  GridSearchCV\n",
    "\n",
    "import matplotlib.pyplot as plt\n",
    "\n",
    "import warnings\n",
    "warnings.filterwarnings('ignore')"
   ]
  },
  {
   "cell_type": "markdown",
   "metadata": {},
   "source": [
    "# Goals and gotchas:\n",
    "### We have several numeric fields, like Age, Salary, and Tenure.\n",
    "### We will be able to balance these fields to some extent, through quantile binning, when necessary.\n",
    "### However, the country field is unbalanced and will need subsampling, as we will see.\n",
    "\n",
    "# Goal:\n",
    "## Choose the features that are strong indicators of churn, based on the RandomForest ensemble method. "
   ]
  },
  {
   "cell_type": "code",
   "execution_count": null,
   "metadata": {},
   "outputs": [],
   "source": [
    "data = pd.read_csv('data/Churn_Modelling.csv')"
   ]
  },
  {
   "cell_type": "code",
   "execution_count": null,
   "metadata": {},
   "outputs": [],
   "source": [
    "data.head()"
   ]
  },
  {
   "cell_type": "code",
   "execution_count": null,
   "metadata": {},
   "outputs": [],
   "source": [
    "#In classification, we should have nearly the same number of classes.\n",
    "# Here, our classes are those who stay with the bank (0) and those who leave, or churn (1)\n",
    "# Let's see how many of each we have:\n",
    "print(\"The number of people who left: {}. The number of people who stayed: {}\"\\\n",
    "      .format(len(data[data['Exited']== 1]), \n",
    "              len(data[data['Exited']== 0])))"
   ]
  },
  {
   "cell_type": "markdown",
   "metadata": {},
   "source": [
    "# Based on class, we have an unbalanced data set, so we can either sub-sample or use AUROC instread of accuracy\n",
    "### Unless we are using an ANN, in which case the inbalance doesn't matter. However, we will see if this improves later."
   ]
  },
  {
   "cell_type": "code",
   "execution_count": null,
   "metadata": {},
   "outputs": [],
   "source": [
    "model_data = data[['CreditScore', 'Geography', 'Gender', 'Age', 'Tenure', 'Balance', 'NumOfProducts', 'HasCrCard', 'IsActiveMember', 'EstimatedSalary', 'Exited']]"
   ]
  },
  {
   "cell_type": "code",
   "execution_count": null,
   "metadata": {},
   "outputs": [],
   "source": [
    "geo_counts = pd.Series(model_data['Geography']).value_counts()"
   ]
  },
  {
   "cell_type": "code",
   "execution_count": null,
   "metadata": {},
   "outputs": [],
   "source": [
    "geo_counts"
   ]
  },
  {
   "cell_type": "markdown",
   "metadata": {},
   "source": [
    "## The dataset is biased towards France, since France has twice as many samples as the other two countries. Lets subsample this."
   ]
  },
  {
   "cell_type": "code",
   "execution_count": null,
   "metadata": {},
   "outputs": [],
   "source": [
    "# Here we are taking a subsample of France\n",
    "france_sampled = model_data[model_data['Geography'] == 'France'].sample(frac=.50)"
   ]
  },
  {
   "cell_type": "code",
   "execution_count": null,
   "metadata": {},
   "outputs": [],
   "source": [
    "len(france_sampled)"
   ]
  },
  {
   "cell_type": "code",
   "execution_count": null,
   "metadata": {},
   "outputs": [],
   "source": [
    "not_france = model_data[(model_data['Geography'] == 'Germany') | ( model_data['Geography'] == 'Spain')]"
   ]
  },
  {
   "cell_type": "code",
   "execution_count": null,
   "metadata": {},
   "outputs": [],
   "source": [
    "country_balanced = pd.concat([france_sampled,not_france])"
   ]
  },
  {
   "cell_type": "code",
   "execution_count": null,
   "metadata": {},
   "outputs": [],
   "source": [
    "#After resampling, let's see how class balance changed\n",
    "# Here, our classes are those who stay with the bank (0) and those who leave, or churn (1)\n",
    "# Let's see how many of each we have:\n",
    "print(\"The number of people who left: {}. The number of people who stayed: {}\"\\\n",
    "      .format(len(country_balanced[country_balanced['Exited']== 1]), \n",
    "              len(country_balanced[country_balanced['Exited']== 0])))"
   ]
  },
  {
   "cell_type": "markdown",
   "metadata": {},
   "source": [
    "# Distribution of classes does look better, but we better stick to AUROC for non-network algorithms.\n",
    "## Let's look at the features."
   ]
  },
  {
   "cell_type": "code",
   "execution_count": null,
   "metadata": {},
   "outputs": [],
   "source": [
    "X = country_balanced [['CreditScore', 'Geography', 'Gender', 'Age', 'Tenure', 'Balance', 'NumOfProducts', 'HasCrCard', 'IsActiveMember', 'EstimatedSalary']].values\n",
    "y = country_balanced ['Exited'].values"
   ]
  },
  {
   "cell_type": "code",
   "execution_count": null,
   "metadata": {},
   "outputs": [],
   "source": [
    "# Intitiate our label encoder for the categorical variables\n",
    "\n",
    "labelencoder_X1 = LabelEncoder()\n",
    "X[:, 1] = labelencoder_X1.fit_transform(X[:, 1])"
   ]
  },
  {
   "cell_type": "code",
   "execution_count": null,
   "metadata": {},
   "outputs": [],
   "source": [
    "labelencoder_X2 = LabelEncoder()\n",
    "X[:, 2] = labelencoder_X2.fit_transform(X[:, 2])"
   ]
  },
  {
   "cell_type": "code",
   "execution_count": null,
   "metadata": {},
   "outputs": [],
   "source": [
    "params = {\n",
    "    'n_estimators': 10000,\n",
    "    'criterion': 'gini',#default\n",
    "    'random_state':0,\n",
    "    'n_jobs':-1\n",
    "}\n",
    "\n",
    "clf = RandomForestClassifier(**params)\n",
    "\n",
    "clf.fit(X, y)"
   ]
  },
  {
   "cell_type": "code",
   "execution_count": null,
   "metadata": {},
   "outputs": [],
   "source": [
    "names = country_balanced.columns[0:10]"
   ]
  },
  {
   "cell_type": "code",
   "execution_count": null,
   "metadata": {},
   "outputs": [],
   "source": [
    "names"
   ]
  },
  {
   "cell_type": "code",
   "execution_count": null,
   "metadata": {},
   "outputs": [],
   "source": [
    "feature_importances = (sorted(zip(map(lambda x: round(x, 4), clf.feature_importances_), names),\n",
    "                          reverse=True))"
   ]
  },
  {
   "cell_type": "code",
   "execution_count": null,
   "metadata": {},
   "outputs": [],
   "source": [
    "importances = [x[0] for x in feature_importances]"
   ]
  },
  {
   "cell_type": "code",
   "execution_count": null,
   "metadata": {},
   "outputs": [],
   "source": [
    "features = [x[1] for x in feature_importances]"
   ]
  },
  {
   "cell_type": "code",
   "execution_count": null,
   "metadata": {},
   "outputs": [],
   "source": [
    "fig = plt.figure(figsize=(10,8))\n",
    "plt.bar(features, importances)\n",
    "plt.xticks(rotation=90)\n",
    "plt.title('Feature Importance')"
   ]
  },
  {
   "cell_type": "code",
   "execution_count": null,
   "metadata": {},
   "outputs": [],
   "source": [
    "tenure_left= pd.Series(country_balanced['Tenure'][country_balanced['Exited'] == 1]).value_counts()"
   ]
  },
  {
   "cell_type": "code",
   "execution_count": null,
   "metadata": {},
   "outputs": [],
   "source": [
    "tenure_left_df = pd.DataFrame(tenure_left)"
   ]
  },
  {
   "cell_type": "code",
   "execution_count": null,
   "metadata": {},
   "outputs": [],
   "source": [
    "tenure_left_df['x'] = tenure_left.index"
   ]
  },
  {
   "cell_type": "code",
   "execution_count": null,
   "metadata": {},
   "outputs": [],
   "source": [
    "fig = plt.figure(1, figsize=(9, 6))\n",
    "\n",
    "# Create an axes instance\n",
    "ax = fig.add_subplot(111)\n",
    "\n",
    "# Create the boxplot\n",
    "bp = ax.boxplot(tenure_left_df)\n",
    "plt.xlabel(\"Tenure\")\n",
    "plt.title(\"Tenure (in years) of churned customers\")"
   ]
  },
  {
   "cell_type": "code",
   "execution_count": null,
   "metadata": {},
   "outputs": [],
   "source": [
    "# Clear trend above\n",
    "card_left= pd.Series(country_balanced['HasCrCard'][country_balanced['Exited'] == 1]  ).value_counts()\n",
    "card_left_df = pd.DataFrame(card_left)\n",
    "card_left_df['x'] = card_left.index"
   ]
  },
  {
   "cell_type": "code",
   "execution_count": null,
   "metadata": {},
   "outputs": [],
   "source": [
    "fig = plt.figure(1, figsize=(9, 6))\n",
    "\n",
    "# Create an axes instance\n",
    "ax = fig.add_subplot(111)\n",
    "\n",
    "# Create the boxplot\n",
    "bp = ax.boxplot(card_left_df)\n",
    "\n",
    "locs, labels = plt.xticks()   \n",
    "plt.xticks(locs, ['Has Card', \"Does Not Have a Card\"])\n",
    "\n",
    "plt.title(\"Number of churned customers who have cards vs those who don't\")"
   ]
  },
  {
   "cell_type": "code",
   "execution_count": null,
   "metadata": {},
   "outputs": [],
   "source": [
    "#Those who do not have a credit card with the bank are nearly twice as likely to leave!"
   ]
  },
  {
   "cell_type": "code",
   "execution_count": null,
   "metadata": {},
   "outputs": [],
   "source": [
    "np.min(country_balanced['EstimatedSalary'])"
   ]
  },
  {
   "cell_type": "code",
   "execution_count": null,
   "metadata": {},
   "outputs": [],
   "source": [
    "np.max(country_balanced['EstimatedSalary'])"
   ]
  },
  {
   "cell_type": "code",
   "execution_count": null,
   "metadata": {},
   "outputs": [],
   "source": [
    "#The data is skewed to the right \n",
    "np.mean(country_balanced['EstimatedSalary'])"
   ]
  },
  {
   "cell_type": "code",
   "execution_count": null,
   "metadata": {},
   "outputs": [],
   "source": [
    "def assign_quantile(salary):\n",
    "    \n",
    "    if salary <= fifteen_perc:\n",
    "        return \"first\"\n",
    "    \n",
    "    elif salary > fifteen_perc and salary <= thirty_perc:\n",
    "        return \"second\"\n",
    "    \n",
    "    elif salary > thirty_perc and salary <= fourfive_perc:\n",
    "        return \"third\"\n",
    "    \n",
    "    elif salary > fourfive_perc and salary <= sixty_perc:\n",
    "        return \"fourth\"\n",
    "    \n",
    "    elif salary > sixty_perc and salary <= sevenfive_perc:\n",
    "        return \"fifth\"\n",
    "    \n",
    "    elif salary > sevenfive_perc and salary <= ninety:\n",
    "        return \"sixth\"\n",
    "    \n",
    "    elif salary > ninety:\n",
    "        return \"seventh\"\n",
    "    "
   ]
  },
  {
   "cell_type": "code",
   "execution_count": null,
   "metadata": {},
   "outputs": [],
   "source": [
    "fifteen_perc = np.quantile(country_balanced['Balance'], 0)\n",
    "thirty_perc = np.quantile(country_balanced['Balance'], .30)\n",
    "fourfive_perc = np.quantile(country_balanced['Balance'], .45)\n",
    "sixty_perc = np.quantile(country_balanced['Balance'], .60)\n",
    "sevenfive_perc = np.quantile(country_balanced['Balance'], .75)\n",
    "ninety = np.quantile(country_balanced['Balance'], .90)"
   ]
  },
  {
   "cell_type": "code",
   "execution_count": null,
   "metadata": {},
   "outputs": [],
   "source": [
    "quantiles = [assign_quantile(x) for x in country_balanced['Balance']]"
   ]
  },
  {
   "cell_type": "code",
   "execution_count": null,
   "metadata": {},
   "outputs": [],
   "source": [
    "country_balanced['balance_quantiles'] = quantiles"
   ]
  },
  {
   "cell_type": "code",
   "execution_count": null,
   "metadata": {},
   "outputs": [],
   "source": [
    "balance_left= pd.Series(country_balanced['balance_quantiles'][country_balanced['Exited'] == 1]  ).value_counts()\n",
    "balance_left_df = pd.DataFrame(balance_left)\n",
    "balance_left_df['x'] = [5,1,4,6,3,7]"
   ]
  },
  {
   "cell_type": "code",
   "execution_count": null,
   "metadata": {},
   "outputs": [],
   "source": [
    "balance_left_df"
   ]
  },
  {
   "cell_type": "code",
   "execution_count": null,
   "metadata": {},
   "outputs": [],
   "source": [
    "fifteen_perc ,thirty_perc,fourfive_perc,sixty_perc,sevenfive_perc, ninety "
   ]
  },
  {
   "cell_type": "code",
   "execution_count": null,
   "metadata": {},
   "outputs": [],
   "source": [
    "thirty_perc,fourfive_perc"
   ]
  },
  {
   "cell_type": "code",
   "execution_count": null,
   "metadata": {},
   "outputs": [],
   "source": [
    "country_balanced['Balance'].quantile(.55)"
   ]
  },
  {
   "cell_type": "code",
   "execution_count": null,
   "metadata": {},
   "outputs": [],
   "source": [
    "fig = plt.figure(1, figsize=(9, 6))\n",
    "\n",
    "# Create an axes instance\n",
    "ax = fig.add_subplot(111)\n",
    "\n",
    "# Create the boxplot\n",
    "bp = ax.boxplot(balance_left_df)\n",
    "\n",
    "locs, labels = plt.xticks()   \n",
    "plt.xticks(locs, ['5th Quantile\\n (75%):\\n113319.46 -\\n129250.0', '1st Quantile\\n (15%):\\n0 -  \\n0', '4th Quantile\\n(60%)\\n95294.47 -\\n 113319.46', \"6th Quantile\\n(90%):\\n129250.0 -\\n 150513.26\", \"3rd Quantile\\n(45%):0.0-\\n 95294.47\", \"6th+ Quantile+\\n 150513.26+\"])\n",
    "\n",
    "\n",
    "plt.title(\"Customer Churn by Salary Quantile\")"
   ]
  },
  {
   "cell_type": "code",
   "execution_count": null,
   "metadata": {},
   "outputs": [],
   "source": [
    "#Those with balances in the top 75% and those in the bottom 15% are most likely to leave, while those in the highest salary , and in the top 45% are most likely\n",
    "# to stay."
   ]
  },
  {
   "cell_type": "code",
   "execution_count": null,
   "metadata": {},
   "outputs": [],
   "source": [
    "fifteen_perc = np.quantile(country_balanced['EstimatedSalary'], .15)\n",
    "thirty_perc = np.quantile(country_balanced['EstimatedSalary'], .30)\n",
    "fourfive_perc = np.quantile(country_balanced['EstimatedSalary'], .45)\n",
    "sixty_perc = np.quantile(country_balanced['EstimatedSalary'], .60)\n",
    "sevenfive_perc = np.quantile(country_balanced['EstimatedSalary'], .75)\n",
    "ninety = np.quantile(country_balanced['EstimatedSalary'], .90)"
   ]
  },
  {
   "cell_type": "code",
   "execution_count": null,
   "metadata": {},
   "outputs": [],
   "source": [
    "quantiles = [assign_quantile(x) for x in country_balanced['EstimatedSalary']]"
   ]
  },
  {
   "cell_type": "code",
   "execution_count": null,
   "metadata": {},
   "outputs": [],
   "source": [
    "country_balanced['salary_quantiles'] = quantiles"
   ]
  },
  {
   "cell_type": "code",
   "execution_count": null,
   "metadata": {},
   "outputs": [],
   "source": [
    "salary_left= pd.Series(country_balanced['salary_quantiles'][country_balanced['Exited'] == 1]  ).value_counts()\n",
    "salary_left_df = pd.DataFrame(salary_left)\n",
    "salary_left_df['x'] = [6,1,4,5,2,3,7]"
   ]
  },
  {
   "cell_type": "code",
   "execution_count": null,
   "metadata": {},
   "outputs": [],
   "source": [
    "salary_left_df"
   ]
  },
  {
   "cell_type": "code",
   "execution_count": null,
   "metadata": {},
   "outputs": [],
   "source": [
    "fifteen_perc,thirty_perc ,fourfive_perc ,sixty_perc,sevenfive_perc,ninety "
   ]
  },
  {
   "cell_type": "code",
   "execution_count": null,
   "metadata": {},
   "outputs": [],
   "source": [
    "thirty_perc ,fourfive_perc"
   ]
  },
  {
   "cell_type": "code",
   "execution_count": null,
   "metadata": {},
   "outputs": [],
   "source": [
    "fig = plt.figure(1, figsize=(9, 6))\n",
    "\n",
    "# Create an axes instance\n",
    "ax = fig.add_subplot(111)\n",
    "\n",
    "# Create the boxplot\n",
    "bp = ax.boxplot(salary_left_df)\n",
    "\n",
    "locs, labels = plt.xticks()   \n",
    "plt.xticks(locs, ['6th Quantile\\n (90%):\\n119925.40 -\\n149697.78', '1st Quantile\\n (15%):\\n0 -  \\n30520.74', '4th Quantile\\n(60%)\\n90854.87 -\\n119925.40', \"5th Quantile\\n(75%):\\n119925.40 -\\n 149697.78\", \"2nd Quantile\\n(30%):30520.74 -\\n60991.22\", \"3rd Quantile\\n(45%)\\n60991.22 -\\n90854.87\", \"6th Quantile+\\n179975.85​+\"])\n",
    "\n",
    "\n",
    "plt.title(\"Customer Churn by Salary Quantile\")"
   ]
  },
  {
   "cell_type": "code",
   "execution_count": null,
   "metadata": {},
   "outputs": [],
   "source": [
    "#The highest income group is least likely to leave, while the second highest, 6th quantile is most likely.\n",
    "# 1st, 4th, 5th, 2nd and 3rd are all about equally as likely to leave"
   ]
  },
  {
   "cell_type": "code",
   "execution_count": null,
   "metadata": {},
   "outputs": [],
   "source": [
    "salary_stayed= pd.Series(country_balanced['salary_quantiles'][country_balanced['Exited'] == 0]  ).value_counts()\n",
    "salary_stayed_df = pd.DataFrame(salary_stayed)\n",
    "salary_stayed_df['x'] = [3,2,4,5,1,6,7]"
   ]
  },
  {
   "cell_type": "code",
   "execution_count": null,
   "metadata": {},
   "outputs": [],
   "source": [
    "salary_stayed_df"
   ]
  },
  {
   "cell_type": "code",
   "execution_count": null,
   "metadata": {},
   "outputs": [],
   "source": [
    "fig = plt.figure(1, figsize=(9, 6))\n",
    "\n",
    "# Create an axes instance\n",
    "ax = fig.add_subplot(111)\n",
    "\n",
    "# Create the boxplot\n",
    "bp = ax.boxplot(salary_stayed_df)\n",
    "\n",
    "locs, labels = plt.xticks()   \n",
    "plt.xticks(locs, ['3rd Quantile\\n (45%):\\n60991.22 - \\n90854.87', '2nd Quantile\\n (30%):\\n30520.74 -\\n60991.22', '4th Quantile\\n(60%)\\n90854.87 -\\n119925.40', \"5th Quantile\\n(75%):\\n119925.40 -\\n 149697.78\", \"1st Quantile\\n (15%):\\n0 -  \\n30520.74\", \"6th Quantile\\n (90%):\\n119925.40 -\\n149697.78\", \"6th Quantile+\\n179975.85​+\"])\n",
    "\n",
    "\n",
    "plt.title(\"Customer Retained by Salary Quantile\")"
   ]
  },
  {
   "cell_type": "code",
   "execution_count": null,
   "metadata": {},
   "outputs": [],
   "source": [
    "country_balanced['Age'].min(), country_balanced['Age'].max(), country_balanced['Age'].mean()"
   ]
  },
  {
   "cell_type": "code",
   "execution_count": null,
   "metadata": {},
   "outputs": [],
   "source": [
    "# Age is a bit left-skewed\n",
    "country_balanced['Age'].plot(kind='hist')"
   ]
  },
  {
   "cell_type": "code",
   "execution_count": null,
   "metadata": {},
   "outputs": [],
   "source": [
    "fifteen_perc = np.quantile(country_balanced['Age'], .15)\n",
    "thirty_perc = np.quantile(country_balanced['Age'], .30)\n",
    "fourfive_perc = np.quantile(country_balanced['Age'], .45)\n",
    "sixty_perc = np.quantile(country_balanced['Age'], .60)\n",
    "sevenfive_perc = np.quantile(country_balanced['Age'], .75)\n",
    "ninety = np.quantile(country_balanced['Age'], .90)"
   ]
  },
  {
   "cell_type": "code",
   "execution_count": null,
   "metadata": {},
   "outputs": [],
   "source": [
    "# 90% under 53!\n",
    "ninety"
   ]
  },
  {
   "cell_type": "code",
   "execution_count": null,
   "metadata": {},
   "outputs": [],
   "source": [
    "quantiles = [assign_quantile(x) for x in country_balanced['Age']]\n",
    "country_balanced['age_quantiles'] = quantiles"
   ]
  },
  {
   "cell_type": "code",
   "execution_count": null,
   "metadata": {},
   "outputs": [],
   "source": [
    "aged_stayed= pd.Series(country_balanced['age_quantiles'][country_balanced['Exited'] == 0]  ).value_counts()\n",
    "aged_stayed_df = pd.DataFrame(aged_stayed)\n",
    "aged_stayed_df['x'] = [4,1,2,3,5,6, 7]"
   ]
  },
  {
   "cell_type": "code",
   "execution_count": null,
   "metadata": {},
   "outputs": [],
   "source": [
    "aged_stayed_df"
   ]
  },
  {
   "cell_type": "code",
   "execution_count": null,
   "metadata": {},
   "outputs": [],
   "source": [
    "fig = plt.figure(1, figsize=(9, 6))\n",
    "\n",
    "# Create an axes instance\n",
    "ax = fig.add_subplot(111)\n",
    "\n",
    "# Create the boxplot\n",
    "bp = ax.boxplot(aged_stayed_df)\n",
    "\n",
    "locs, labels = plt.xticks()   \n",
    "plt.xticks(locs, ['36-40', '18-29', '29-33', '33-36','40-44', '44-53', '53+'])\n",
    "plt.xlabel(\"Quantile\")\n",
    "\n",
    "plt.title(\"Customer Remaining by Age  Quantile (.15 - .90)\")"
   ]
  },
  {
   "cell_type": "code",
   "execution_count": null,
   "metadata": {},
   "outputs": [],
   "source": [
    "# Could it be that wealthy older folks are the ones leaving?"
   ]
  },
  {
   "cell_type": "code",
   "execution_count": null,
   "metadata": {},
   "outputs": [],
   "source": [
    "aged_left= pd.Series(country_balanced['age_quantiles'][country_balanced['Exited'] == 1]  ).value_counts()\n",
    "aged_left_df = pd.DataFrame(aged_left)\n",
    "aged_left_df['x'] = [6,7,5,4,3,1,2]"
   ]
  },
  {
   "cell_type": "code",
   "execution_count": null,
   "metadata": {},
   "outputs": [],
   "source": [
    "aged_left_df"
   ]
  },
  {
   "cell_type": "code",
   "execution_count": null,
   "metadata": {},
   "outputs": [],
   "source": [
    "fig = plt.figure(1, figsize=(9, 6))\n",
    "\n",
    "# Create an axes instance\n",
    "ax = fig.add_subplot(111)\n",
    "\n",
    "# Create the boxplot\n",
    "bp = ax.boxplot(aged_left_df)\n",
    "\n",
    "locs, labels = plt.xticks()   \n",
    "plt.xticks(locs, ['44-53', '53+', '40-44', '36-40','33-36', '18-29', '29-33'])\n",
    "plt.xlabel(\"Quantile\")\n",
    "\n",
    "plt.title(\"Customer Churn by Age  Quantile (.15 - .90)\")"
   ]
  },
  {
   "cell_type": "code",
   "execution_count": null,
   "metadata": {},
   "outputs": [],
   "source": [
    "prod_counts_stayed =  pd.Series(country_balanced['NumOfProducts'][country_balanced['Exited'] == 0]  ).value_counts()\n",
    "prod_counts_stayed_df = pd.DataFrame(prod_counts_stayed)\n",
    "prod_counts_stayed_df['x'] = prod_counts_stayed.index"
   ]
  },
  {
   "cell_type": "code",
   "execution_count": null,
   "metadata": {},
   "outputs": [],
   "source": [
    "prod_counts_stayed_df"
   ]
  },
  {
   "cell_type": "code",
   "execution_count": null,
   "metadata": {},
   "outputs": [],
   "source": [
    "fig = plt.figure(1, figsize=(9, 6))\n",
    "\n",
    "# Create an axes instance\n",
    "ax = fig.add_subplot(111)\n",
    "\n",
    "# Create the boxplot\n",
    "bp = ax.boxplot(prod_counts_stayed_df)\n",
    "\n",
    "locs, labels = plt.xticks()   \n",
    "plt.xticks(locs,prod_counts_stayed.index)\n",
    "plt.xlabel('Number of Products')\n",
    "\n",
    "plt.title(\"Customer Remaining by Number of Products\")"
   ]
  },
  {
   "cell_type": "code",
   "execution_count": null,
   "metadata": {},
   "outputs": [],
   "source": [
    "prod_counts_left =  pd.Series(country_balanced['NumOfProducts'][country_balanced['Exited'] == 1]  ).value_counts()\n",
    "prod_counts_left_df = pd.DataFrame(prod_counts_left)\n",
    "prod_counts_left_df['x'] = prod_counts_left.index"
   ]
  },
  {
   "cell_type": "code",
   "execution_count": null,
   "metadata": {},
   "outputs": [],
   "source": [
    "fig = plt.figure(1, figsize=(9, 6))\n",
    "\n",
    "# Create an axes instance\n",
    "ax = fig.add_subplot(111)\n",
    "\n",
    "# Create the boxplot\n",
    "bp = ax.boxplot(prod_counts_left_df)\n",
    "\n",
    "locs, labels = plt.xticks()   \n",
    "plt.xticks(locs,prod_counts_left.index)\n",
    "plt.xlabel('Number of Products')\n",
    "\n",
    "plt.title(\"Customer Churn by Number of Products\")"
   ]
  },
  {
   "cell_type": "code",
   "execution_count": null,
   "metadata": {},
   "outputs": [],
   "source": [
    "# It looks like there is a correlation of number of products and a customer remaining;\n",
    "# Those with few products seem more likely to leave."
   ]
  },
  {
   "cell_type": "code",
   "execution_count": null,
   "metadata": {},
   "outputs": [],
   "source": [
    "geo_counts_stayed =  pd.Series(country_balanced['Geography'][country_balanced['Exited'] == 0]  ).value_counts()\n",
    "geo_stayed_df = pd.DataFrame(geo_counts_stayed)\n",
    "geo_stayed_df['x'] =[0,1,2]"
   ]
  },
  {
   "cell_type": "code",
   "execution_count": null,
   "metadata": {},
   "outputs": [],
   "source": [
    "geo_counts_stayed "
   ]
  },
  {
   "cell_type": "code",
   "execution_count": null,
   "metadata": {},
   "outputs": [],
   "source": [
    "geo_stayed_df"
   ]
  },
  {
   "cell_type": "code",
   "execution_count": null,
   "metadata": {},
   "outputs": [],
   "source": [
    "fig = plt.figure(1, figsize=(9, 6))\n",
    "\n",
    "# Create an axes instance\n",
    "ax = fig.add_subplot(111)\n",
    "\n",
    "# Create the boxplot\n",
    "bp = ax.boxplot(geo_stayed_df)\n",
    "\n",
    "locs, labels = plt.xticks()   \n",
    "plt.xticks(locs,geo_counts_stayed.index)\n",
    "\n",
    "plt.title(\"Customer Remaining by Country\")"
   ]
  },
  {
   "cell_type": "code",
   "execution_count": null,
   "metadata": {},
   "outputs": [],
   "source": [
    "# German customers seem to be more loyal, with France slighlty more loyal than Spain."
   ]
  },
  {
   "cell_type": "code",
   "execution_count": null,
   "metadata": {},
   "outputs": [],
   "source": [
    "geo_counts_left =  pd.Series(country_balanced['Geography'][country_balanced['Exited'] == 1]  ).value_counts()\n",
    "geo_left_df = pd.DataFrame(geo_counts_left)\n",
    "geo_left_df['x'] =[0,1,2]"
   ]
  },
  {
   "cell_type": "code",
   "execution_count": null,
   "metadata": {},
   "outputs": [],
   "source": [
    "geo_counts_left"
   ]
  },
  {
   "cell_type": "code",
   "execution_count": null,
   "metadata": {},
   "outputs": [],
   "source": [
    "geo_left_df"
   ]
  },
  {
   "cell_type": "code",
   "execution_count": null,
   "metadata": {},
   "outputs": [],
   "source": [
    "fig = plt.figure(1, figsize=(9, 6))\n",
    "\n",
    "# Create an axes instance\n",
    "ax = fig.add_subplot(111)\n",
    "\n",
    "# Create the boxplot\n",
    "bp = ax.boxplot(geo_left_df)\n",
    "\n",
    "locs, labels = plt.xticks()   \n",
    "plt.xticks(locs,geo_counts_left.index)\n",
    "\n",
    "plt.title(\"Customer Churn by Country\")"
   ]
  },
  {
   "cell_type": "code",
   "execution_count": null,
   "metadata": {},
   "outputs": [],
   "source": [
    "gender_counts = pd.Series(country_balanced['Gender']).value_counts()"
   ]
  },
  {
   "cell_type": "code",
   "execution_count": null,
   "metadata": {},
   "outputs": [],
   "source": [
    "gender_counts"
   ]
  },
  {
   "cell_type": "code",
   "execution_count": null,
   "metadata": {},
   "outputs": [],
   "source": [
    "gender_counts2 = pd.Series(country_balanced['Gender'][country_balanced['Exited'] == 0]).value_counts()"
   ]
  },
  {
   "cell_type": "code",
   "execution_count": null,
   "metadata": {},
   "outputs": [],
   "source": [
    "# Looks like males are more likely to stay, though slightly more males than females in \n",
    "gender_counts2"
   ]
  },
  {
   "cell_type": "code",
   "execution_count": null,
   "metadata": {},
   "outputs": [],
   "source": [
    "print('There are about {}% more males than females in the data.'.format(1  - 3432/4061))"
   ]
  },
  {
   "cell_type": "code",
   "execution_count": null,
   "metadata": {},
   "outputs": [],
   "source": [
    "print('With a primitive population adjustment, the trend still holds; {} males vs {} females. '.format(3323 - 3323*.155, 2509))"
   ]
  },
  {
   "cell_type": "code",
   "execution_count": null,
   "metadata": {},
   "outputs": [],
   "source": [
    "gender_counts3 = pd.Series(country_balanced['Gender'][country_balanced['Exited'] == 1]).value_counts()"
   ]
  },
  {
   "cell_type": "code",
   "execution_count": null,
   "metadata": {},
   "outputs": [],
   "source": [
    "print('Of those who churned, {} were female, while (adjusting for population) {} were male'.format(923, 738-738*.155))"
   ]
  },
  {
   "cell_type": "code",
   "execution_count": null,
   "metadata": {},
   "outputs": [],
   "source": [
    "all_churned = country_balanced[country_balanced['Exited'] == 1]"
   ]
  },
  {
   "cell_type": "code",
   "execution_count": null,
   "metadata": {},
   "outputs": [],
   "source": [
    "# Before we save the results here for modeling, How about looking at age and income. We saw surprising correlations\n",
    "# here. So, looking at age and income together\n",
    "import seaborn as sns\n",
    "\n",
    "plt.figure(figsize=(10,8))\n",
    "sns.pairplot(all_churned[['EstimatedSalary','Age', 'salary_quantiles']], \n",
    "             'salary_quantiles' ,\n",
    "            diag_kind='kde',\n",
    "            plot_kws={'alpha':0.6, 's':80, 'edgecolor':'k'},\n",
    "            height=4)"
   ]
  },
  {
   "cell_type": "code",
   "execution_count": null,
   "metadata": {},
   "outputs": [],
   "source": [
    "# Looking at the visual bottom-right, above, it does look like older, high-income customers are the most likely to churn.\n",
    "# However, the most likely to churn, the highest 10% of income is not necessarily older.\n",
    "# Here, seventh quartile isn't a quartile per se, but represents the 90%+ quartile. In other words, 6th quartile+"
   ]
  },
  {
   "cell_type": "code",
   "execution_count": null,
   "metadata": {},
   "outputs": [],
   "source": [
    "all_stayed = country_balanced[country_balanced['Exited'] == 0]"
   ]
  },
  {
   "cell_type": "code",
   "execution_count": null,
   "metadata": {},
   "outputs": [],
   "source": [
    "plt.figure(figsize=(10,8))\n",
    "sns.pairplot(all_stayed[['EstimatedSalary','Age', 'salary_quantiles']], \n",
    "             'salary_quantiles' ,\n",
    "             diag_kind='kde',\n",
    "            plot_kws={'alpha':0.6, 's':80, 'edgecolor':'k'},\n",
    "            height=4)"
   ]
  },
  {
   "cell_type": "markdown",
   "metadata": {},
   "source": [
    "## Those who stay tend to be younger and richer. This is surprising.\n",
    "### The takeway is that those around 50 - 62 and in the top  75-90% of income are most likely to leave,\n",
    "### while those in the top 10% of income and under the age of 50 (really around 37) are more likely to stay. "
   ]
  },
  {
   "cell_type": "code",
   "execution_count": null,
   "metadata": {},
   "outputs": [],
   "source": [
    "# For Categorical Modeling using _quantile columns we created\n",
    "country_balanced[['Tenure','Gender','Geography','salary_quantiles', 'balance_quantiles','age_quantiles','CreditScore','NumOfProducts', 'HasCrCard', 'Exited']].to_csv('data/customer_churn_balanced.csv', index=False)"
   ]
  },
  {
   "cell_type": "code",
   "execution_count": null,
   "metadata": {},
   "outputs": [],
   "source": [
    "# X for neural net\n",
    "country_balanced[['CreditScore', 'Geography', 'Gender', 'Age', 'Tenure', 'Balance', 'NumOfProducts', 'HasCrCard', 'IsActiveMember', 'EstimatedSalary']].to_csv('data/x_out_nn.csv')"
   ]
  },
  {
   "cell_type": "code",
   "execution_count": null,
   "metadata": {},
   "outputs": [],
   "source": [
    "#y for neural net\n",
    "country_balanced [['Exited']].to_csv('data/y_out_nn.csv')"
   ]
  },
  {
   "cell_type": "code",
   "execution_count": null,
   "metadata": {},
   "outputs": [],
   "source": [
    "# For modeling using real numbers\n",
    "country_balanced[['CreditScore', 'Geography', 'Gender', 'Age', 'Tenure', 'Balance', 'NumOfProducts', 'HasCrCard', 'IsActiveMember', 'EstimatedSalary', 'Exited']].to_csv('data/numeric_out.csv')"
   ]
  },
  {
   "cell_type": "code",
   "execution_count": null,
   "metadata": {},
   "outputs": [],
   "source": []
  }
 ],
 "metadata": {
  "kernelspec": {
   "display_name": "Python 3",
   "language": "python",
   "name": "python3"
  },
  "language_info": {
   "codemirror_mode": {
    "name": "ipython",
    "version": 3
   },
   "file_extension": ".py",
   "mimetype": "text/x-python",
   "name": "python",
   "nbconvert_exporter": "python",
   "pygments_lexer": "ipython3",
   "version": "3.6.8"
  }
 },
 "nbformat": 4,
 "nbformat_minor": 2
}
